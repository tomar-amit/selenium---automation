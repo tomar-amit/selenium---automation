{
 "cells": [
  {
   "cell_type": "code",
   "execution_count": 2,
   "metadata": {},
   "outputs": [],
   "source": [
    "#mport time\n",
    "#import the webdriver form the selenium module\n",
    "from selenium import webdriver\n",
    "\n",
    "browser = webdriver.Chrome('chromedriver.exe')  #give the path of chromedriver in argument \n",
    "\n",
    "#maximize the window, if you required\n",
    "browser.maximize_window()\n",
    "\n",
    "#search the URL\n",
    "browser.get('https://www.youtube.com/')\n",
    "\n",
    "#find the seacrh box\n",
    "search = browser.find_element_by_name('search_query')\n",
    "\n",
    "#enter text/query to search... ex - love me like you do\n",
    "search.send_keys('love me like you do')\n",
    "\n",
    "#hit the search button\n",
    "search.submit()\n",
    "\n",
    "#find the top one search result, and click it to play\n",
    "browser.find_element_by_id('video-title').click()\n",
    "\n",
    "#time.sleep(300)\n",
    "#browser.close()"
   ]
  }
 ],
 "metadata": {
  "kernelspec": {
   "display_name": "Python 3",
   "language": "python",
   "name": "python3"
  },
  "language_info": {
   "codemirror_mode": {
    "name": "ipython",
    "version": 3
   },
   "file_extension": ".py",
   "mimetype": "text/x-python",
   "name": "python",
   "nbconvert_exporter": "python",
   "pygments_lexer": "ipython3",
   "version": "3.7.3"
  }
 },
 "nbformat": 4,
 "nbformat_minor": 2
}
